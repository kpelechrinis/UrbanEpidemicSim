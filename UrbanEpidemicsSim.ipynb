{
 "cells": [
  {
   "cell_type": "code",
   "execution_count": 2,
   "metadata": {
    "pycharm": {
     "is_executing": false
    }
   },
   "outputs": [
    {
     "traceback": [
      "\u001b[0;31m---------------------------------------------------------------------------\u001b[0m",
      "\u001b[0;31mFileNotFoundError\u001b[0m                         Traceback (most recent call last)",
      "\u001b[0;32m<ipython-input-2-98e7a6ab485d>\u001b[0m in \u001b[0;36m<module>\u001b[0;34m\u001b[0m\n\u001b[1;32m    116\u001b[0m \u001b[0;34m\u001b[0m\u001b[0m\n\u001b[1;32m    117\u001b[0m \u001b[0;34m\u001b[0m\u001b[0m\n\u001b[0;32m--> 118\u001b[0;31m \u001b[0mpsim\u001b[0m \u001b[0;34m=\u001b[0m \u001b[0mPlaceNetSim\u001b[0m\u001b[0;34m(\u001b[0m\u001b[0;34m)\u001b[0m\u001b[0;34m\u001b[0m\u001b[0;34m\u001b[0m\u001b[0m\n\u001b[0m\u001b[1;32m    119\u001b[0m \u001b[0;34m\u001b[0m\u001b[0m\n",
      "\u001b[0;32m<ipython-input-2-98e7a6ab485d>\u001b[0m in \u001b[0;36m__init__\u001b[0;34m(self)\u001b[0m\n\u001b[1;32m     24\u001b[0m     \u001b[0mself\u001b[0m\u001b[0;34m.\u001b[0m\u001b[0mNYC_graph\u001b[0m \u001b[0;34m=\u001b[0m \u001b[0mnx\u001b[0m\u001b[0;34m.\u001b[0m\u001b[0mDiGraph\u001b[0m\u001b[0;34m(\u001b[0m\u001b[0;34m)\u001b[0m\u001b[0;34m\u001b[0m\u001b[0;34m\u001b[0m\u001b[0m\n\u001b[1;32m     25\u001b[0m     \u001b[0mself\u001b[0m\u001b[0;34m.\u001b[0m\u001b[0mplaces\u001b[0m \u001b[0;34m=\u001b[0m \u001b[0;34m{\u001b[0m\u001b[0;34m}\u001b[0m\u001b[0;34m\u001b[0m\u001b[0;34m\u001b[0m\u001b[0m\n\u001b[0;32m---> 26\u001b[0;31m     \u001b[0mself\u001b[0m\u001b[0;34m.\u001b[0m\u001b[0minit_graph\u001b[0m\u001b[0;34m(\u001b[0m\u001b[0;34m)\u001b[0m\u001b[0;34m\u001b[0m\u001b[0;34m\u001b[0m\u001b[0m\n\u001b[0m\u001b[1;32m     27\u001b[0m     \u001b[0mself\u001b[0m\u001b[0;34m.\u001b[0m\u001b[0mload_transitions_data\u001b[0m\u001b[0;34m(\u001b[0m\u001b[0;34m)\u001b[0m\u001b[0;34m\u001b[0m\u001b[0;34m\u001b[0m\u001b[0m\n\u001b[1;32m     28\u001b[0m \u001b[0;34m\u001b[0m\u001b[0m\n",
      "\u001b[0;32m<ipython-input-2-98e7a6ab485d>\u001b[0m in \u001b[0;36minit_graph\u001b[0;34m(self)\u001b[0m\n\u001b[1;32m     31\u001b[0m     \u001b[0;31m# node_data = {}\u001b[0m\u001b[0;34m\u001b[0m\u001b[0;34m\u001b[0m\u001b[0;34m\u001b[0m\u001b[0m\n\u001b[1;32m     32\u001b[0m     \u001b[0mself\u001b[0m\u001b[0;34m.\u001b[0m\u001b[0mpos_dict\u001b[0m \u001b[0;34m=\u001b[0m \u001b[0;34m{\u001b[0m\u001b[0;34m}\u001b[0m\u001b[0;34m\u001b[0m\u001b[0;34m\u001b[0m\u001b[0m\n\u001b[0;32m---> 33\u001b[0;31m     \u001b[0;32mfor\u001b[0m \u001b[0ml\u001b[0m \u001b[0;32min\u001b[0m \u001b[0mopen\u001b[0m\u001b[0;34m(\u001b[0m\u001b[0;34m'./shared_data/newyork_anon_locationData_newcrawl.txt'\u001b[0m\u001b[0;34m)\u001b[0m\u001b[0;34m:\u001b[0m\u001b[0;34m\u001b[0m\u001b[0;34m\u001b[0m\u001b[0m\n\u001b[0m\u001b[1;32m     34\u001b[0m       \u001b[0msplits\u001b[0m \u001b[0;34m=\u001b[0m \u001b[0ml\u001b[0m\u001b[0;34m.\u001b[0m\u001b[0msplit\u001b[0m\u001b[0;34m(\u001b[0m\u001b[0;34m'*;*'\u001b[0m\u001b[0;34m)\u001b[0m\u001b[0;34m\u001b[0m\u001b[0;34m\u001b[0m\u001b[0m\n\u001b[1;32m     35\u001b[0m       \u001b[0mvenue_id\u001b[0m \u001b[0;34m=\u001b[0m \u001b[0mint\u001b[0m\u001b[0;34m(\u001b[0m\u001b[0msplits\u001b[0m\u001b[0;34m[\u001b[0m\u001b[0;36m0\u001b[0m\u001b[0;34m]\u001b[0m\u001b[0;34m)\u001b[0m\u001b[0;34m\u001b[0m\u001b[0;34m\u001b[0m\u001b[0m\n",
      "\u001b[0;31mFileNotFoundError\u001b[0m: [Errno 2] No such file or directory: './shared_data/newyork_anon_locationData_newcrawl.txt'"
     ],
     "ename": "FileNotFoundError",
     "evalue": "[Errno 2] No such file or directory: './shared_data/newyork_anon_locationData_newcrawl.txt'",
     "output_type": "error"
    }
   ],
   "source": [
    "import random\n",
    "from datetime import datetime, timedelta\n",
    "\n",
    "import matplotlib.pylab as plt\n",
    "import networkx as nx\n",
    "import pandas as pd\n",
    "\n",
    "from Place import Place\n",
    "\n",
    "\n",
    "#https://stackoverflow.com/questions/10688006/generate-a-list-of-datetimes-between-an-interval\n",
    "def perdelta(start, end, delta):\n",
    "  curr = start\n",
    "  while curr < end:\n",
    "    yield curr\n",
    "    curr += delta\n",
    "\n",
    "class PlaceNetSim: \n",
    "  def __init__(self):\n",
    "    self.pos_dict = None\n",
    "    self.start_date = datetime(2010, 12, 21, 20, 0, 0)\n",
    "    self.end_date = datetime(2011, 9, 19, 17, 0, 0)\n",
    "    self.cur_time = None\n",
    "    self.NYC_graph = nx.DiGraph()\n",
    "    self.places = {}\n",
    "    self.init_graph()\n",
    "    self.load_transitions_data()\n",
    "    \n",
    "  def init_graph(self):\n",
    "    #read venue (node) data \n",
    "    # node_data = {}\n",
    "    self.pos_dict = {}\n",
    "    for l in open('./shared_data/newyork_anon_locationData_newcrawl.txt'):\n",
    "      splits = l.split('*;*')\n",
    "      venue_id = int(splits[0])\n",
    "      venue_info = eval(splits[1])\n",
    "    \n",
    "      #add place to graph\n",
    "      self.NYC_graph.add_node(venue_id)\n",
    "      self.NYC_graph.nodes[venue_id]['info'] = venue_info #(40.760265, -73.989105, 'Italian', '217', '291', 'Ristorante Da Rosina')\n",
    "    \n",
    "      #initialise placee and within place, population information \n",
    "      self.places[venue_id] = Place(venue_info)\n",
    "    \n",
    "      #this will be used for drawing the network\n",
    "      self.pos_dict[venue_id] = (venue_info[1], venue_info[0])\n",
    "          \n",
    "  def load_transitions_data(self):\n",
    "    self.df_transitions = pd.read_csv('./shared_data/newyork_placenet_transitions.csv', error_bad_lines=False)\n",
    "    self.df_transitions['timestamp1'] = pd.to_datetime(self.df_transitions.timestamp1)\n",
    "    self.df_transitions['timestamp2'] = pd.to_datetime(self.df_transitions.timestamp2)\n",
    "    self.df_transitions = self.df_transitions.sort_values(by='timestamp1')\n",
    "    \n",
    "    for place_id in self.places:\n",
    "      mask = (self.df_transitions['venue1'] == place_id)\n",
    "      place_transitions = self.df_transitions.loc[mask]\n",
    "      self.places[place_id].set_total_movements(len(place_transitions))\n",
    "  \n",
    "  def run_simulation(self):\n",
    "    epoch = 0\n",
    "    date1 = None\n",
    "    date2 = None\n",
    "    for date2 in perdelta(self.start_date, self.end_date, timedelta(days=1)):\n",
    "      if date1 is None :\n",
    "        date1 = date2\n",
    "        continue\n",
    "      \n",
    "      print ('epoch: ' + str(epoch))\n",
    "      mask = (self.df_transitions['timestamp1'] > date1) & (self.df_transitions['timestamp2'] <= date2)\n",
    "      df_transitions_snap = self.df_transitions.loc[mask]\n",
    "      \n",
    "      for row in df_transitions_snap.iterrows():\n",
    "        venue1 = row[1][0]\n",
    "        venue2 = row[1][1]\n",
    "        \n",
    "        self.places[venue1].incubate_cycle(date1)\n",
    "        self.places[venue2].incubate_cycle(date2) #check\t\n",
    "        venue1_population_set =  self.places[venue1].get_population()\n",
    "        venue2_population_set =  self.places[venue2].get_population()\n",
    "        moving_population_size = 1.0 / self.places[venue1].get_total_movements() \n",
    "        \n",
    "        moving_pop = random.sample(venue1_population_set, moving_population_size)\n",
    "        new_venue1_pop = venue1_population_set.difference(moving_pop)\n",
    "        self.places[venue1].set_population(new_venue1_pop)\n",
    "        \n",
    "        new_venue2_pop = venue2_population_set.add(moving_pop)\n",
    "        self.places[venue1].set_population(new_venue2_pop)\n",
    "        \n",
    "        epoch+=1\n",
    "        date1 = date2\n",
    "\n",
    "  def draw_infection_graphs(self):\n",
    "    \"\"\"\n",
    "    \n",
    "    :return: \n",
    "    :rtype: \n",
    "    \"\"\"\n",
    "    #TODO: fix this so it displays geographically infected population fractions vs infected places\n",
    "    \n",
    "    #draw the network of infected nodes \n",
    "    infected_node_list = [venue for venue in self.NYC_graph.nodes() if self.NYC_graph.nodes[venue]['status'] == 1]\n",
    "    inf_pos_dict = dict((k, self.pos_dict[k]) for k in infected_node_list)\n",
    "    infected_graph = self.NYC_graph.subgraph(infected_node_list)\n",
    "    frac_infected = round(infected_graph.order() / self.NYC_graph.order()*10,2)\n",
    "    \n",
    "    # plt.figure(1,figsize=(50,50)) \n",
    "    plt.xlabel('longitude')\n",
    "    plt.ylabel('latitude')\n",
    "    plt.grid(True)\n",
    "    # nx.draw_networkx_nodes(infected_graph, pos=pos_dict, nodelist = infected_node_list , node_size=1, alpha=0.1)\n",
    "    nx.draw(infected_graph, pos=inf_pos_dict , node_size=0.1, node_color='red', alpha=0.1)\n",
    "    plt.title(self.date2.strftime(\"%m/%d/%Y\") + ' ' +  str(frac_infected)  + '%' + ' of 85k places infected')\n",
    "    \n",
    "    plt.savefig('./netgraphs/nyc_net_' + str(self.epoch) + '.png')\n",
    "    plt.close()\n",
    "    \n",
    "    \n",
    "psim = PlaceNetSim()"
   ]
  },
  {
   "cell_type": "code",
   "execution_count": null,
   "metadata": {
    "pycharm": {
     "is_executing": false,
     "name": "#%%\n"
    }
   },
   "outputs": [],
   "source": [
    "psim.run_simulation()\n",
    "\n",
    "\n"
   ]
  }
 ],
 "metadata": {
  "kernelspec": {
   "display_name": "Python 3",
   "language": "python",
   "name": "python3"
  },
  "language_info": {
   "codemirror_mode": {
    "name": "ipython",
    "version": 3
   },
   "file_extension": ".py",
   "mimetype": "text/x-python",
   "name": "python",
   "nbconvert_exporter": "python",
   "pygments_lexer": "ipython3",
   "version": "3.7.4"
  },
  "pycharm": {
   "stem_cell": {
    "cell_type": "raw",
    "source": [],
    "metadata": {
     "collapsed": false
    }
   }
  }
 },
 "nbformat": 4,
 "nbformat_minor": 2
}